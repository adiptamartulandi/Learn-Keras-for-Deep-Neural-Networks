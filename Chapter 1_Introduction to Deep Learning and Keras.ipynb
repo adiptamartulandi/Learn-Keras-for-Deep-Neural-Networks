{
 "cells": [
  {
   "cell_type": "markdown",
   "metadata": {},
   "source": [
    "***\n",
    "- Created by: Adipta Martulandi\n",
    "- Email : adipta.martulandi@gmail.com\n",
    "- LinkedIn : https://www.linkedin.com/in/adiptamartulandi/\n",
    "***"
   ]
  },
  {
   "cell_type": "markdown",
   "metadata": {},
   "source": [
    "## Introduction to Deep Learning"
   ]
  },
  {
   "cell_type": "markdown",
   "metadata": {},
   "source": [
    "Deep Learning is a subfield of Machine Learning (ML) in Artificial Intelligence (AI) that deals with algorithms inspired from the biological structure and functioning of a brain to aid machines with intelligence."
   ]
  },
  {
   "cell_type": "markdown",
   "metadata": {},
   "source": [
    "## Demistifying the Buzzword"
   ]
  },
  {
   "cell_type": "markdown",
   "metadata": {},
   "source": [
    "- AI in its most generic form can be defined as the quality of intelligence being introduced into machines. Machines are usually dumb, so to make them smarter we induce some sort of intelligence in them where they can take a decision independently."
   ]
  },
  {
   "cell_type": "markdown",
   "metadata": {},
   "source": [
    "- Machine learning can be defined as the process of inducing intelligence into a system or machine without explicit programming.\n",
    "- ML performs poorly with image and other unstructured data types. "
   ]
  },
  {
   "cell_type": "markdown",
   "metadata": {},
   "source": [
    "- When researchers reached the cusp of ML and neural networks, there came the field of DL, which was framed by developing deep neural networks (DNNs), that is, improvised neural networks with many more layers. "
   ]
  },
  {
   "cell_type": "markdown",
   "metadata": {},
   "source": [
    "## Popular Deep Learning Framework"
   ]
  },
  {
   "cell_type": "markdown",
   "metadata": {},
   "source": [
    "### Low Level Framework\n",
    "1. Theano\n",
    "2. Torch\n",
    "3. PyTorch\n",
    "4. MxNet\n",
    "5. Tensorflow"
   ]
  },
  {
   "cell_type": "markdown",
   "metadata": {},
   "source": [
    "### High Level Framework\n",
    "1. Keras"
   ]
  },
  {
   "cell_type": "markdown",
   "metadata": {},
   "source": [
    "*** "
   ]
  },
  {
   "cell_type": "markdown",
   "metadata": {},
   "source": [
    "## Import Required Packages"
   ]
  },
  {
   "cell_type": "code",
   "execution_count": 2,
   "metadata": {},
   "outputs": [
    {
     "name": "stderr",
     "output_type": "stream",
     "text": [
      "Using TensorFlow backend.\n"
     ]
    }
   ],
   "source": [
    "import tensorflow as tf\n",
    "import keras\n",
    "import numpy as np"
   ]
  },
  {
   "cell_type": "markdown",
   "metadata": {},
   "source": [
    "## Create Dummy Data"
   ]
  },
  {
   "cell_type": "code",
   "execution_count": 3,
   "metadata": {},
   "outputs": [],
   "source": [
    "#Setting seed for reproducibility\n",
    "np.random.seed(2018)\n",
    "\n",
    "#Generate Training Data (1000 Datapoints) and Testing Data (500 Datapoints)\n",
    "train_data, test_data = np.random.random((1000, 3)), np.random.random((500, 3))\n",
    "\n",
    "#Generate dummy results for 1000 students : Whether Passed (1) or Failed (0)\n",
    "labels = np.random.randint(2, size=(1000, 1))"
   ]
  },
  {
   "cell_type": "markdown",
   "metadata": {},
   "source": [
    "## Create Simple Deep Learning Model"
   ]
  },
  {
   "cell_type": "code",
   "execution_count": 8,
   "metadata": {},
   "outputs": [],
   "source": [
    "#Defining the model structure with the required layers, # of neurons, activation function and optimizers\n",
    "model = tf.keras.models.Sequential()\n",
    "\n",
    "#First hidden layer\n",
    "model.add(tf.keras.layers.Dense(5, input_dim=3, activation='relu'))\n",
    "\n",
    "#Second hidden layer\n",
    "model.add(tf.keras.layers.Dense(4, activation='relu'))\n",
    "\n",
    "#Output layer\n",
    "model.add(tf.keras.layers.Dense(1, activation='sigmoid'))\n",
    "\n",
    "#Compile all layers\n",
    "model.compile(loss='binary_crossentropy', optimizer='adam', metrics=['accuracy'])"
   ]
  },
  {
   "cell_type": "markdown",
   "metadata": {},
   "source": [
    "## Training Model and Creating Predicition"
   ]
  },
  {
   "cell_type": "code",
   "execution_count": 5,
   "metadata": {},
   "outputs": [
    {
     "name": "stdout",
     "output_type": "stream",
     "text": [
      "Epoch 1/10\n",
      "1000/1000 [==============================] - 2s 2ms/sample - loss: 0.6990 - acc: 0.4840\n",
      "Epoch 2/10\n",
      "1000/1000 [==============================] - 0s 194us/sample - loss: 0.6946 - acc: 0.5080\n",
      "Epoch 3/10\n",
      "1000/1000 [==============================] - 0s 194us/sample - loss: 0.6932 - acc: 0.5140\n",
      "Epoch 4/10\n",
      "1000/1000 [==============================] - 0s 195us/sample - loss: 0.6928 - acc: 0.5260\n",
      "Epoch 5/10\n",
      "1000/1000 [==============================] - 0s 189us/sample - loss: 0.6926 - acc: 0.5230\n",
      "Epoch 6/10\n",
      "1000/1000 [==============================] - 0s 196us/sample - loss: 0.6926 - acc: 0.5310\n",
      "Epoch 7/10\n",
      "1000/1000 [==============================] - 0s 205us/sample - loss: 0.6924 - acc: 0.5330\n",
      "Epoch 8/10\n",
      "1000/1000 [==============================] - 0s 202us/sample - loss: 0.6923 - acc: 0.5250\n",
      "Epoch 9/10\n",
      "1000/1000 [==============================] - 0s 198us/sample - loss: 0.6923 - acc: 0.5250\n",
      "Epoch 10/10\n",
      "1000/1000 [==============================] - 0s 202us/sample - loss: 0.6925 - acc: 0.5190\n"
     ]
    }
   ],
   "source": [
    "#Train the model\n",
    "model.fit(train_data, labels, epochs=10, batch_size=32);"
   ]
  },
  {
   "cell_type": "code",
   "execution_count": 6,
   "metadata": {},
   "outputs": [],
   "source": [
    "#Make predictions from the trained model\n",
    "predictions = model.predict(test_data)"
   ]
  },
  {
   "cell_type": "code",
   "execution_count": 7,
   "metadata": {},
   "outputs": [
    {
     "data": {
      "text/plain": [
       "array([[0.49661508],\n",
       "       [0.50199777],\n",
       "       [0.49873075],\n",
       "       [0.5000541 ],\n",
       "       [0.49601328],\n",
       "       [0.48406914],\n",
       "       [0.49761704],\n",
       "       [0.48508024],\n",
       "       [0.4924881 ],\n",
       "       [0.48394477]], dtype=float32)"
      ]
     },
     "execution_count": 7,
     "metadata": {},
     "output_type": "execute_result"
    }
   ],
   "source": [
    "predictions[:10]"
   ]
  }
 ],
 "metadata": {
  "kernelspec": {
   "display_name": "Python 3",
   "language": "python",
   "name": "python3"
  },
  "language_info": {
   "codemirror_mode": {
    "name": "ipython",
    "version": 3
   },
   "file_extension": ".py",
   "mimetype": "text/x-python",
   "name": "python",
   "nbconvert_exporter": "python",
   "pygments_lexer": "ipython3",
   "version": "3.6.9"
  }
 },
 "nbformat": 4,
 "nbformat_minor": 2
}
